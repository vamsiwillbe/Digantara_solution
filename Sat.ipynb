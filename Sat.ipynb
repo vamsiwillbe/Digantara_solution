{
  "nbformat": 4,
  "nbformat_minor": 0,
  "metadata": {
    "colab": {
      "provenance": [],
      "include_colab_link": true
    },
    "kernelspec": {
      "name": "python3",
      "display_name": "Python 3"
    },
    "language_info": {
      "name": "python"
    }
  },
  "cells": [
    {
      "cell_type": "markdown",
      "metadata": {
        "id": "view-in-github",
        "colab_type": "text"
      },
      "source": [
        "<a href=\"https://colab.research.google.com/github/vamsiwillbe/Digantara_solution/blob/main/Sat.ipynb\" target=\"_parent\"><img src=\"https://colab.research.google.com/assets/colab-badge.svg\" alt=\"Open In Colab\"/></a>"
      ]
    },
    {
      "cell_type": "markdown",
      "source": [
        "# New Section"
      ],
      "metadata": {
        "id": "QLb6YiBQgDi5"
      }
    },
    {
      "cell_type": "markdown",
      "source": [
        "satellite # New Section"
      ],
      "metadata": {
        "id": "x2LxeOjmg6Hf"
      }
    },
    {
      "cell_type": "code",
      "source": [
        "pip install sgp4\n"
      ],
      "metadata": {
        "colab": {
          "base_uri": "https://localhost:8080/"
        },
        "id": "4z-a87Dwg-Oy",
        "outputId": "d3889194-22f8-429d-9adc-ea871fedd22b"
      },
      "execution_count": null,
      "outputs": [
        {
          "output_type": "stream",
          "name": "stdout",
          "text": [
            "Requirement already satisfied: sgp4 in /usr/local/lib/python3.10/dist-packages (2.22)\n"
          ]
        }
      ]
    },
    {
      "cell_type": "markdown",
      "source": [
        "# New Section"
      ],
      "metadata": {
        "id": "tYKMR-KWijuK"
      }
    },
    {
      "cell_type": "code",
      "source": [
        "pip install sgp4"
      ],
      "metadata": {
        "colab": {
          "base_uri": "https://localhost:8080/"
        },
        "id": "6U_uhDIBikxb",
        "outputId": "ed6e0aaf-1ca2-45c2-8f1c-8c0ecf5b6d9f"
      },
      "execution_count": null,
      "outputs": [
        {
          "output_type": "stream",
          "name": "stdout",
          "text": [
            "Requirement already satisfied: sgp4 in /usr/local/lib/python3.10/dist-packages (2.22)\n"
          ]
        }
      ]
    },
    {
      "cell_type": "code",
      "source": [
        "from sgp4.api import Satrec, jday\n",
        "import pandas as pd"
      ],
      "metadata": {
        "id": "lZg4VCSainh0"
      },
      "execution_count": null,
      "outputs": []
    },
    {
      "cell_type": "code",
      "source": [
        "import pandas as pd"
      ],
      "metadata": {
        "id": "LoMXnMe_JOTA"
      },
      "execution_count": null,
      "outputs": []
    },
    {
      "cell_type": "code",
      "source": [
        "tle_file = \"/content/sample_data/30sats.txt\"\n",
        "with open(tle_file, 'r') as tle_data:\n",
        "    tle_lines = tle_data.read().splitlines()"
      ],
      "metadata": {
        "id": "nU6oxyppir4C"
      },
      "execution_count": null,
      "outputs": []
    },
    {
      "cell_type": "code",
      "source": [
        "time_positions = []\n",
        "satellites = []\n",
        "\n",
        "start_year, start_month, start_day, start_hour, start_minute, start_second = 2023, 1, 1, 0, 0, 0\n",
        "end_year, end_month, end_day, end_hour, end_minute, end_second = 2023, 1, 5, 0, 0, 0\n",
        "\n",
        "for tle_line in tle_lines:\n",
        "    # Extract satellite name, line 1, and line 2\n",
        "    satellite_name = tle_line.strip()\n",
        "    line1 = tle_lines.pop(0)\n",
        "    line2 = tle_lines.pop(0)\n",
        "\n",
        "    satellite = Satrec.twoline2rv(line1, line2)\n",
        "    satellites.append(satellite)\n",
        "\n",
        "    current_time = pd.Timestamp(year=start_year, month=start_month, day=start_day,\n",
        "                                hour=start_hour, minute=start_minute, second=start_second)\n",
        "    end_time = pd.Timestamp(year=end_year, month=end_month, day=end_day,\n",
        "                           hour=end_hour, minute=end_minute, second=end_second)\n",
        "\n",
        "    while current_time <= end_time:\n",
        "        jd, fr = jday(current_time.year, current_time.month, current_time.day,\n",
        "                      current_time.hour, current_time.minute, current_time.second)\n",
        "\n",
        "        e, r, v = satellite.sgp4(jd, fr)\n",
        "\n",
        "        time_positions.append([current_time, *r, *v])\n",
        "\n",
        "        current_time += pd.Timedelta(seconds=1)"
      ],
      "metadata": {
        "id": "_Da5J119iv1y"
      },
      "execution_count": null,
      "outputs": []
    },
    {
      "cell_type": "code",
      "source": [
        "column_names = ['Time', 'Px', 'Py', 'Pz', 'Vx', 'Vy', 'Vz']\n",
        "df = pd.DataFrame(time_positions, columns=column_names)\n",
        "df.to_csv('satellite_state_vectors.csv', index=False)"
      ],
      "metadata": {
        "id": "YGyWSR2Ui0ZA"
      },
      "execution_count": null,
      "outputs": []
    },
    {
      "cell_type": "code",
      "source": [
        "import pandas as pd"
      ],
      "metadata": {
        "id": "oVw4jFHBkn58"
      },
      "execution_count": null,
      "outputs": []
    },
    {
      "cell_type": "code",
      "source": [
        "data = pd.read_csv('satellite_state_vectors.csv')"
      ],
      "metadata": {
        "id": "rV_2Czt_krnH"
      },
      "execution_count": null,
      "outputs": []
    },
    {
      "cell_type": "code",
      "source": [
        "print(data)\n"
      ],
      "metadata": {
        "colab": {
          "base_uri": "https://localhost:8080/"
        },
        "id": "hSZhHi8ipbSb",
        "outputId": "986b7fe1-eb2b-4205-9a7d-da32808c5a84"
      },
      "execution_count": null,
      "outputs": [
        {
          "output_type": "stream",
          "name": "stdout",
          "text": [
            "                        Time           Px           Py           Pz        Vx  \\\n",
            "0        2023-01-01 00:00:00 -5012.011414  3701.575225 -4060.546042 -4.643448   \n",
            "1        2023-01-01 00:00:01 -5016.652219  3695.500787 -4062.125062 -4.638593   \n",
            "2        2023-01-01 00:00:02 -5021.288168  3689.422772 -4063.700144 -4.633735   \n",
            "3        2023-01-01 00:00:03 -5025.919259  3683.341186 -4065.271287 -4.628875   \n",
            "4        2023-01-01 00:00:04 -5030.545488  3677.256036 -4066.838491 -4.624012   \n",
            "...                      ...          ...          ...          ...       ...   \n",
            "6912015  2023-01-04 23:59:56  4909.662585  -146.273819 -5006.876596 -1.428209   \n",
            "6912016  2023-01-04 23:59:57  4908.231541  -139.058958 -5008.463244 -1.433868   \n",
            "6912017  2023-01-04 23:59:58  4906.794838  -131.843937 -5010.044103 -1.439525   \n",
            "6912018  2023-01-04 23:59:59  4905.352479  -124.628764 -5011.619170 -1.445181   \n",
            "6912019  2023-01-05 00:00:00  4903.904465  -117.413447 -5013.188444 -1.450835   \n",
            "\n",
            "               Vy        Vz  \n",
            "0       -6.073055 -1.581275  \n",
            "1       -6.076636 -1.577335  \n",
            "2       -6.080211 -1.573395  \n",
            "3       -6.083778 -1.569455  \n",
            "4       -6.087337 -1.565515  \n",
            "...           ...       ...  \n",
            "6912015  7.214760 -1.589526  \n",
            "6912016  7.214925 -1.583737  \n",
            "6912017  7.215081 -1.577947  \n",
            "6912018  7.215229 -1.572155  \n",
            "6912019  7.215368 -1.566361  \n",
            "\n",
            "[6912020 rows x 7 columns]\n"
          ]
        }
      ]
    },
    {
      "cell_type": "code",
      "source": [
        "from google.colab import files"
      ],
      "metadata": {
        "id": "iAgAh_qZs6ML"
      },
      "execution_count": null,
      "outputs": []
    },
    {
      "cell_type": "code",
      "source": [
        "!pip install pyproj\n"
      ],
      "metadata": {
        "id": "H5xutuWmulZy",
        "colab": {
          "base_uri": "https://localhost:8080/"
        },
        "outputId": "07755bfb-53c0-4fff-9bd7-16d7e873221c"
      },
      "execution_count": null,
      "outputs": [
        {
          "output_type": "stream",
          "name": "stdout",
          "text": [
            "Requirement already satisfied: pyproj in /usr/local/lib/python3.10/dist-packages (3.6.1)\n",
            "Requirement already satisfied: certifi in /usr/local/lib/python3.10/dist-packages (from pyproj) (2023.7.22)\n"
          ]
        }
      ]
    },
    {
      "cell_type": "code",
      "source": [
        "import pyproj\n",
        "\n",
        "def ecef2lla(pos_x, pos_y, pos_z):\n",
        "    ecef = pyproj.CRS(\"EPSG:4978\")  # ECEF coordinate system\n",
        "    lla = pyproj.CRS(\"EPSG:4326\")  # WGS84 (Lat, Long, Alt) coordinate system\n",
        "    transformer = pyproj.Transformer.from_crs(ecef, lla, always_xy=True)\n",
        "\n",
        "    lla_data = []\n",
        "\n",
        "    for i in range(len(pos_x)):\n",
        "        lon, lat, alt = transformer.transform(pos_x[i], pos_y[i], pos_z[i])\n",
        "        lla_data.append([lon, lat, alt])\n",
        "\n",
        "    return lla_data\n",
        "\n",
        "# Assuming 'data' is your DataFrame containing the ECEF position data\n",
        "ecef_data = data[['Px', 'Py', 'Pz']]\n",
        "converted_data = ecef2lla(ecef_data['Px'], ecef_data['Py'], ecef_data['Pz'])\n",
        "\n",
        "# Create a new DataFrame for the [Lat, Long, Alt] data\n",
        "lla_df = pd.DataFrame(converted_data, columns=['Longitude', 'Latitude', 'Altitude'])\n",
        "\n",
        "# Concatenate the [Lat, Long, Alt] data with the original data\n",
        "final_data = pd.concat([data, lla_df], axis=1)\n",
        "\n",
        "# Print the final data with [Lat, Long, Alt]\n",
        "print(final_data)\n"
      ],
      "metadata": {
        "colab": {
          "base_uri": "https://localhost:8080/"
        },
        "id": "gh-ln98VvcEh",
        "outputId": "a91b68b4-f66c-416f-a448-5d9e33afafa8"
      },
      "execution_count": null,
      "outputs": [
        {
          "output_type": "stream",
          "name": "stdout",
          "text": [
            "                        Time           Px           Py           Pz        Vx  \\\n",
            "0        2023-01-01 00:00:00 -5012.011414  3701.575225 -4060.546042 -4.643448   \n",
            "1        2023-01-01 00:00:01 -5016.652219  3695.500787 -4062.125062 -4.638593   \n",
            "2        2023-01-01 00:00:02 -5021.288168  3689.422772 -4063.700144 -4.633735   \n",
            "3        2023-01-01 00:00:03 -5025.919259  3683.341186 -4065.271287 -4.628875   \n",
            "4        2023-01-01 00:00:04 -5030.545488  3677.256036 -4066.838491 -4.624012   \n",
            "...                      ...          ...          ...          ...       ...   \n",
            "6912015  2023-01-04 23:59:56  4909.662585  -146.273819 -5006.876596 -1.428209   \n",
            "6912016  2023-01-04 23:59:57  4908.231541  -139.058958 -5008.463244 -1.433868   \n",
            "6912017  2023-01-04 23:59:58  4906.794838  -131.843937 -5010.044103 -1.439525   \n",
            "6912018  2023-01-04 23:59:59  4905.352479  -124.628764 -5011.619170 -1.445181   \n",
            "6912019  2023-01-05 00:00:00  4903.904465  -117.413447 -5013.188444 -1.450835   \n",
            "\n",
            "               Vy        Vz   Longitude  Latitude      Altitude  \n",
            "0       -6.073055 -1.581275  143.552617     -90.0 -6.352692e+06  \n",
            "1       -6.076636 -1.577335  143.622901     -90.0 -6.352690e+06  \n",
            "2       -6.080211 -1.573395  143.693183     -90.0 -6.352689e+06  \n",
            "3       -6.083778 -1.569455  143.763461     -90.0 -6.352687e+06  \n",
            "4       -6.087337 -1.565515  143.833736     -90.0 -6.352685e+06  \n",
            "...           ...       ...         ...       ...           ...  \n",
            "6912015  7.214760 -1.589526   -1.706511     -90.0 -6.351745e+06  \n",
            "6912016  7.214925 -1.583737   -1.622858     -90.0 -6.351744e+06  \n",
            "6912017  7.215081 -1.577947   -1.539148     -90.0 -6.351742e+06  \n",
            "6912018  7.215229 -1.572155   -1.455383     -90.0 -6.351741e+06  \n",
            "6912019  7.215368 -1.566361   -1.371562     -90.0 -6.351739e+06  \n",
            "\n",
            "[6912020 rows x 10 columns]\n"
          ]
        }
      ]
    },
    {
      "cell_type": "code",
      "source": [
        "import pandas as pd\n"
      ],
      "metadata": {
        "id": "A8LzWcPhwT9W"
      },
      "execution_count": null,
      "outputs": []
    },
    {
      "cell_type": "code",
      "source": [
        "filtered_data = []\n",
        "\n",
        "for region in regions:\n",
        "    latitude1 = region['latitude1']\n",
        "    longitude1 = region['longitude1']\n",
        "    latitude2 = region['latitude2']\n",
        "    longitude2 = region['longitude2']\n",
        "\n",
        "    # Filter data within the region\n",
        "    region_data = final_data[\n",
        "        (final_data['Latitude'] >= min(latitude1, latitude2)) &\n",
        "        (final_data['Latitude'] <= max(latitude1, latitude2)) &\n",
        "        (final_data['Longitude'] >= min(longitude1, longitude2)) &\n",
        "        (final_data['Longitude'] <= max(longitude1, longitude2))\n",
        "    ]\n",
        "\n",
        "    # Append filtered data to the result\n",
        "    filtered_data.append(region_data)\n",
        "\n",
        "# You now have a list of DataFrames, one for each region\n"
      ],
      "metadata": {
        "id": "9vnqnJ6NwW09"
      },
      "execution_count": null,
      "outputs": []
    },
    {
      "cell_type": "code",
      "source": [
        "for i, region_data in enumerate(filtered_data):\n",
        "    print(f\"Region {i+1} Data:\")\n",
        "    print(region_data)\n"
      ],
      "metadata": {
        "colab": {
          "base_uri": "https://localhost:8080/"
        },
        "id": "GjiD6C4vwZoJ",
        "outputId": "ba656548-0480-4bfb-f300-7b446ad826c8"
      },
      "execution_count": null,
      "outputs": [
        {
          "output_type": "stream",
          "name": "stdout",
          "text": [
            "Region 1 Data:\n",
            "                        Time           Px           Py           Pz        Vx  \\\n",
            "2002     2023-01-01 00:33:22 -4903.195603 -8281.576051 -1231.597129  3.635955   \n",
            "2003     2023-01-01 00:33:23 -4899.558627 -8285.147602 -1228.441472  3.638095   \n",
            "2004     2023-01-01 00:33:24 -4895.919512 -8288.715535 -1225.285278  3.640234   \n",
            "2005     2023-01-01 00:33:25 -4892.278260 -8292.279849 -1222.128546  3.642370   \n",
            "2006     2023-01-01 00:33:26 -4888.634872 -8295.840545 -1218.971280  3.644504   \n",
            "...                      ...          ...          ...          ...       ...   \n",
            "6912015  2023-01-04 23:59:56  4909.662585  -146.273819 -5006.876596 -1.428209   \n",
            "6912016  2023-01-04 23:59:57  4908.231541  -139.058958 -5008.463244 -1.433868   \n",
            "6912017  2023-01-04 23:59:58  4906.794838  -131.843937 -5010.044103 -1.439525   \n",
            "6912018  2023-01-04 23:59:59  4905.352479  -124.628764 -5011.619170 -1.445181   \n",
            "6912019  2023-01-05 00:00:00  4903.904465  -117.413447 -5013.188444 -1.450835   \n",
            "\n",
            "               Vy        Vz   Longitude  Latitude      Altitude  \n",
            "2002    -3.573338  3.154511 -120.628107     -90.0 -6.355521e+06  \n",
            "2003    -3.569721  3.155050 -120.598647     -90.0 -6.355524e+06  \n",
            "2004    -3.566103  3.155587 -120.569195     -90.0 -6.355527e+06  \n",
            "2005    -3.562485  3.156122 -120.539750     -90.0 -6.355530e+06  \n",
            "2006    -3.558865  3.156656 -120.510312     -90.0 -6.355533e+06  \n",
            "...           ...       ...         ...       ...           ...  \n",
            "6912015  7.214760 -1.589526   -1.706511     -90.0 -6.351745e+06  \n",
            "6912016  7.214925 -1.583737   -1.622858     -90.0 -6.351744e+06  \n",
            "6912017  7.215081 -1.577947   -1.539148     -90.0 -6.351742e+06  \n",
            "6912018  7.215229 -1.572155   -1.455383     -90.0 -6.351741e+06  \n",
            "6912019  7.215368 -1.566361   -1.371562     -90.0 -6.351739e+06  \n",
            "\n",
            "[2635534 rows x 10 columns]\n",
            "Region 2 Data:\n",
            "Empty DataFrame\n",
            "Columns: [Time, Px, Py, Pz, Vx, Vy, Vz, Longitude, Latitude, Altitude]\n",
            "Index: []\n"
          ]
        }
      ]
    }
  ]
}